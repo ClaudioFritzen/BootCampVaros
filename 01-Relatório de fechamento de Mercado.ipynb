{
 "cells": [
  {
   "cell_type": "markdown",
   "id": "53400ac6",
   "metadata": {},
   "source": [
    "## Projeto 1 - Relatório de fechamento de mercado por email.\n",
    "\n",
    "### Desafio\n",
    "    Contruir um email que chegue na caixa de entrada todos os dias com informações de fechamento do Ibovespa e Dolar.\n",
    "    \n",
    "### Passo a passo\n",
    "\n",
    "Passo 1 - Importar os módulos e bibliotecas <br>\n",
    "Passo 2 - Pegar dados do Ibovespa e Dólar no Yahoo Finance. <br>\n",
    "Passo 3 - Manipular os dados para deixá-los nos formatos necessários para fechamento. <br>\n",
    "Passo 4 - Calcular o retorno diário, mensal e trimestral. <br>\n",
    "Passo 5 - Localizar, dentro tabelas de retornos, os valores de fechamento de mercado que irão pro texto anexado no e-mail.<br>\n",
    "Passo 6 - Fazer os graficos dos ativos. <br>\n",
    "Passo 7 - Enviar o Email. <br>"
   ]
  },
  {
   "cell_type": "markdown",
   "id": "c900e746",
   "metadata": {},
   "source": [
    "## Passo 1 - Importando os módulos necessários"
   ]
  },
  {
   "cell_type": "code",
   "execution_count": 6,
   "id": "5d164fd5",
   "metadata": {},
   "outputs": [
    {
     "name": "stdout",
     "output_type": "stream",
     "text": [
      "Collecting yfinance==0.1.74\n",
      "  Downloading yfinance-0.1.74-py2.py3-none-any.whl (27 kB)\n",
      "Requirement already satisfied: lxml>=4.5.1 in c:\\users\\bruna cirigaita\\anaconda3\\jupyter\\lib\\site-packages (from yfinance==0.1.74) (4.9.1)\n",
      "Collecting multitasking>=0.0.7\n",
      "  Downloading multitasking-0.0.11-py3-none-any.whl (8.5 kB)\n",
      "Requirement already satisfied: numpy>=1.15 in c:\\users\\bruna cirigaita\\anaconda3\\jupyter\\lib\\site-packages (from yfinance==0.1.74) (1.21.5)\n",
      "Requirement already satisfied: pandas>=0.24.0 in c:\\users\\bruna cirigaita\\anaconda3\\jupyter\\lib\\site-packages (from yfinance==0.1.74) (1.4.4)\n",
      "Requirement already satisfied: requests>=2.26 in c:\\users\\bruna cirigaita\\anaconda3\\jupyter\\lib\\site-packages (from yfinance==0.1.74) (2.28.1)\n",
      "Requirement already satisfied: pytz>=2020.1 in c:\\users\\bruna cirigaita\\anaconda3\\jupyter\\lib\\site-packages (from pandas>=0.24.0->yfinance==0.1.74) (2022.1)\n",
      "Requirement already satisfied: python-dateutil>=2.8.1 in c:\\users\\bruna cirigaita\\anaconda3\\jupyter\\lib\\site-packages (from pandas>=0.24.0->yfinance==0.1.74) (2.8.2)\n",
      "Requirement already satisfied: urllib3<1.27,>=1.21.1 in c:\\users\\bruna cirigaita\\anaconda3\\jupyter\\lib\\site-packages (from requests>=2.26->yfinance==0.1.74) (1.26.11)\n",
      "Requirement already satisfied: idna<4,>=2.5 in c:\\users\\bruna cirigaita\\anaconda3\\jupyter\\lib\\site-packages (from requests>=2.26->yfinance==0.1.74) (3.3)\n",
      "Requirement already satisfied: charset-normalizer<3,>=2 in c:\\users\\bruna cirigaita\\anaconda3\\jupyter\\lib\\site-packages (from requests>=2.26->yfinance==0.1.74) (2.0.4)\n",
      "Requirement already satisfied: certifi>=2017.4.17 in c:\\users\\bruna cirigaita\\anaconda3\\jupyter\\lib\\site-packages (from requests>=2.26->yfinance==0.1.74) (2022.9.14)\n",
      "Requirement already satisfied: six>=1.5 in c:\\users\\bruna cirigaita\\anaconda3\\jupyter\\lib\\site-packages (from python-dateutil>=2.8.1->pandas>=0.24.0->yfinance==0.1.74) (1.16.0)\n",
      "Installing collected packages: multitasking, yfinance\n",
      "Successfully installed multitasking-0.0.11 yfinance-0.1.74\n"
     ]
    }
   ],
   "source": [
    "# instalando os modulos\n",
    "!pip install yfinance==0.1.74\n",
    "\n"
   ]
  },
  {
   "cell_type": "code",
   "execution_count": 7,
   "id": "2ba0bdce",
   "metadata": {},
   "outputs": [
    {
     "name": "stdout",
     "output_type": "stream",
     "text": [
      "Collecting mplcyberpunk\n",
      "  Downloading mplcyberpunk-0.6.0-py3-none-any.whl (6.0 kB)\n",
      "Requirement already satisfied: matplotlib in c:\\users\\bruna cirigaita\\anaconda3\\jupyter\\lib\\site-packages (from mplcyberpunk) (3.5.2)\n",
      "Requirement already satisfied: python-dateutil>=2.7 in c:\\users\\bruna cirigaita\\anaconda3\\jupyter\\lib\\site-packages (from matplotlib->mplcyberpunk) (2.8.2)\n",
      "Requirement already satisfied: packaging>=20.0 in c:\\users\\bruna cirigaita\\anaconda3\\jupyter\\lib\\site-packages (from matplotlib->mplcyberpunk) (21.3)\n",
      "Requirement already satisfied: fonttools>=4.22.0 in c:\\users\\bruna cirigaita\\anaconda3\\jupyter\\lib\\site-packages (from matplotlib->mplcyberpunk) (4.25.0)\n",
      "Requirement already satisfied: pyparsing>=2.2.1 in c:\\users\\bruna cirigaita\\anaconda3\\jupyter\\lib\\site-packages (from matplotlib->mplcyberpunk) (3.0.9)\n",
      "Requirement already satisfied: kiwisolver>=1.0.1 in c:\\users\\bruna cirigaita\\anaconda3\\jupyter\\lib\\site-packages (from matplotlib->mplcyberpunk) (1.4.2)\n",
      "Requirement already satisfied: numpy>=1.17 in c:\\users\\bruna cirigaita\\anaconda3\\jupyter\\lib\\site-packages (from matplotlib->mplcyberpunk) (1.21.5)\n",
      "Requirement already satisfied: pillow>=6.2.0 in c:\\users\\bruna cirigaita\\anaconda3\\jupyter\\lib\\site-packages (from matplotlib->mplcyberpunk) (9.2.0)\n",
      "Requirement already satisfied: cycler>=0.10 in c:\\users\\bruna cirigaita\\anaconda3\\jupyter\\lib\\site-packages (from matplotlib->mplcyberpunk) (0.11.0)\n",
      "Requirement already satisfied: six>=1.5 in c:\\users\\bruna cirigaita\\anaconda3\\jupyter\\lib\\site-packages (from python-dateutil>=2.7->matplotlib->mplcyberpunk) (1.16.0)\n",
      "Installing collected packages: mplcyberpunk\n",
      "Successfully installed mplcyberpunk-0.6.0\n"
     ]
    }
   ],
   "source": [
    "!pip install mplcyberpunk"
   ]
  },
  {
   "cell_type": "code",
   "execution_count": 9,
   "id": "50eef25d",
   "metadata": {},
   "outputs": [
    {
     "name": "stdout",
     "output_type": "stream",
     "text": [
      "Collecting python-dotenv\n",
      "  Using cached python_dotenv-1.0.0-py3-none-any.whl (19 kB)\n",
      "Installing collected packages: python-dotenv\n",
      "Successfully installed python-dotenv-1.0.0\n"
     ]
    }
   ],
   "source": [
    "!pip install python-dotenv"
   ]
  },
  {
   "cell_type": "code",
   "execution_count": 12,
   "id": "e87eea91",
   "metadata": {},
   "outputs": [],
   "source": [
    "# fazendo as importações dos módulos\n",
    "import pandas as pd\n",
    "import datetime\n",
    "import yfinance as yf\n",
    "from matplotlib import pyplot as plt\n",
    "import smtplib\n",
    "from email.message import EmailMessage"
   ]
  },
  {
   "cell_type": "markdown",
   "id": "9a063d34",
   "metadata": {},
   "source": [
    "## Passo 2 - Pegar dados do Ibovespa e Dólar no Yahoo Finance."
   ]
  },
  {
   "cell_type": "code",
   "execution_count": null,
   "id": "2f381fb1",
   "metadata": {},
   "outputs": [],
   "source": []
  },
  {
   "cell_type": "markdown",
   "id": "3d80de77",
   "metadata": {},
   "source": [
    "## Passo 3 - Manipular os dados para deixá-los nos formatos necessários para fechamento"
   ]
  },
  {
   "cell_type": "code",
   "execution_count": null,
   "id": "d3225706",
   "metadata": {},
   "outputs": [],
   "source": []
  }
 ],
 "metadata": {
  "kernelspec": {
   "display_name": "Python 3 (ipykernel)",
   "language": "python",
   "name": "python3"
  },
  "language_info": {
   "codemirror_mode": {
    "name": "ipython",
    "version": 3
   },
   "file_extension": ".py",
   "mimetype": "text/x-python",
   "name": "python",
   "nbconvert_exporter": "python",
   "pygments_lexer": "ipython3",
   "version": "3.9.13"
  }
 },
 "nbformat": 4,
 "nbformat_minor": 5
}
