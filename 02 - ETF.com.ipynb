{
 "cells": [
  {
   "cell_type": "markdown",
   "id": "1bfb25a7",
   "metadata": {},
   "source": [
    "Projeto 2 - Como pegar dados de um site com Python?\n",
    "Pegando dados de ETFs do mundo inteiro.\n",
    "\n",
    "### Desafio:\n",
    "    * Construir um código que vá no site etf.com e busque dados de todos os etfs do mercado americano e, consequentimente, do mundo. Rentabilidade, patrimônio, gestora, taxa ...\n",
    "\n",
    "### Passo a passo\n",
    "Passo 1 - Definir um navegador que você ira utilizar para navegar com o Python.<br>\n",
    "Passo 2 - Importar os módulos e bibliotecas.<br>\n",
    "Passo 3 - Entender como funciona as requisições na internet. <br>\n",
    "Passo 4 - Conhecer e mapear o processo de coleta de dados no site do ETF.com <br>\n",
    "Passo 5 - Achar todos os elementos necessários dentro do HTML do site. <br>\n",
    "Passo 6 - Ler a tabela de dados. <br>\n",
    "Passo 7 - Constriur a tabela final. <br>"
   ]
  },
  {
   "cell_type": "markdown",
   "id": "3bbcdbf2",
   "metadata": {},
   "source": [
    "### Passo 1 : Escolher o navegador\n",
    "google chrome"
   ]
  },
  {
   "cell_type": "markdown",
   "id": "f8e6c6be",
   "metadata": {},
   "source": [
    "## Passo 2 : Importando as bibliotecas"
   ]
  },
  {
   "cell_type": "code",
   "execution_count": 6,
   "id": "96e3b0c2",
   "metadata": {},
   "outputs": [
    {
     "name": "stdout",
     "output_type": "stream",
     "text": [
      "Requirement already satisfied: selenium in c:\\users\\bruna cirigaita\\anaconda3\\jupyter\\lib\\site-packages (4.8.3)\n",
      "Requirement already satisfied: certifi>=2021.10.8 in c:\\users\\bruna cirigaita\\anaconda3\\jupyter\\lib\\site-packages (from selenium) (2022.9.14)\n",
      "Requirement already satisfied: trio~=0.17 in c:\\users\\bruna cirigaita\\anaconda3\\jupyter\\lib\\site-packages (from selenium) (0.22.0)\n",
      "Requirement already satisfied: trio-websocket~=0.9 in c:\\users\\bruna cirigaita\\anaconda3\\jupyter\\lib\\site-packages (from selenium) (0.10.2)\n",
      "Requirement already satisfied: urllib3[socks]~=1.26 in c:\\users\\bruna cirigaita\\anaconda3\\jupyter\\lib\\site-packages (from selenium) (1.26.11)\n",
      "Requirement already satisfied: cffi>=1.14 in c:\\users\\bruna cirigaita\\anaconda3\\jupyter\\lib\\site-packages (from trio~=0.17->selenium) (1.15.1)\n",
      "Requirement already satisfied: idna in c:\\users\\bruna cirigaita\\anaconda3\\jupyter\\lib\\site-packages (from trio~=0.17->selenium) (3.3)\n",
      "Requirement already satisfied: exceptiongroup>=1.0.0rc9 in c:\\users\\bruna cirigaita\\anaconda3\\jupyter\\lib\\site-packages (from trio~=0.17->selenium) (1.1.1)\n",
      "Requirement already satisfied: outcome in c:\\users\\bruna cirigaita\\anaconda3\\jupyter\\lib\\site-packages (from trio~=0.17->selenium) (1.2.0)\n",
      "Requirement already satisfied: sniffio in c:\\users\\bruna cirigaita\\anaconda3\\jupyter\\lib\\site-packages (from trio~=0.17->selenium) (1.2.0)\n",
      "Requirement already satisfied: async-generator>=1.9 in c:\\users\\bruna cirigaita\\anaconda3\\jupyter\\lib\\site-packages (from trio~=0.17->selenium) (1.10)\n",
      "Requirement already satisfied: attrs>=19.2.0 in c:\\users\\bruna cirigaita\\anaconda3\\jupyter\\lib\\site-packages (from trio~=0.17->selenium) (21.4.0)\n",
      "Requirement already satisfied: sortedcontainers in c:\\users\\bruna cirigaita\\anaconda3\\jupyter\\lib\\site-packages (from trio~=0.17->selenium) (2.4.0)\n",
      "Requirement already satisfied: wsproto>=0.14 in c:\\users\\bruna cirigaita\\anaconda3\\jupyter\\lib\\site-packages (from trio-websocket~=0.9->selenium) (1.2.0)\n",
      "Requirement already satisfied: PySocks!=1.5.7,<2.0,>=1.5.6 in c:\\users\\bruna cirigaita\\anaconda3\\jupyter\\lib\\site-packages (from urllib3[socks]~=1.26->selenium) (1.7.1)\n",
      "Requirement already satisfied: pycparser in c:\\users\\bruna cirigaita\\anaconda3\\jupyter\\lib\\site-packages (from cffi>=1.14->trio~=0.17->selenium) (2.21)\n",
      "Requirement already satisfied: h11<1,>=0.9.0 in c:\\users\\bruna cirigaita\\anaconda3\\jupyter\\lib\\site-packages (from wsproto>=0.14->trio-websocket~=0.9->selenium) (0.14.0)\n"
     ]
    }
   ],
   "source": [
    "!pip install selenium\n"
   ]
  },
  {
   "cell_type": "code",
   "execution_count": 9,
   "id": "979578e4",
   "metadata": {},
   "outputs": [
    {
     "name": "stdout",
     "output_type": "stream",
     "text": [
      "Requirement already satisfied: webdriver_manager in c:\\users\\bruna cirigaita\\anaconda3\\jupyter\\lib\\site-packages (3.8.5)\n",
      "Requirement already satisfied: tqdm in c:\\users\\bruna cirigaita\\anaconda3\\jupyter\\lib\\site-packages (from webdriver_manager) (4.64.1)\n",
      "Requirement already satisfied: requests in c:\\users\\bruna cirigaita\\anaconda3\\jupyter\\lib\\site-packages (from webdriver_manager) (2.28.1)\n",
      "Requirement already satisfied: python-dotenv in c:\\users\\bruna cirigaita\\anaconda3\\jupyter\\lib\\site-packages (from webdriver_manager) (1.0.0)\n",
      "Requirement already satisfied: packaging in c:\\users\\bruna cirigaita\\anaconda3\\jupyter\\lib\\site-packages (from webdriver_manager) (21.3)\n",
      "Requirement already satisfied: pyparsing!=3.0.5,>=2.0.2 in c:\\users\\bruna cirigaita\\anaconda3\\jupyter\\lib\\site-packages (from packaging->webdriver_manager) (3.0.9)\n",
      "Requirement already satisfied: certifi>=2017.4.17 in c:\\users\\bruna cirigaita\\anaconda3\\jupyter\\lib\\site-packages (from requests->webdriver_manager) (2022.9.14)\n",
      "Requirement already satisfied: idna<4,>=2.5 in c:\\users\\bruna cirigaita\\anaconda3\\jupyter\\lib\\site-packages (from requests->webdriver_manager) (3.3)\n",
      "Requirement already satisfied: charset-normalizer<3,>=2 in c:\\users\\bruna cirigaita\\anaconda3\\jupyter\\lib\\site-packages (from requests->webdriver_manager) (2.0.4)\n",
      "Requirement already satisfied: urllib3<1.27,>=1.21.1 in c:\\users\\bruna cirigaita\\anaconda3\\jupyter\\lib\\site-packages (from requests->webdriver_manager) (1.26.11)\n",
      "Requirement already satisfied: colorama in c:\\users\\bruna cirigaita\\anaconda3\\jupyter\\lib\\site-packages (from tqdm->webdriver_manager) (0.4.5)\n"
     ]
    }
   ],
   "source": [
    "!pip install webdriver_manager"
   ]
  },
  {
   "cell_type": "code",
   "execution_count": 11,
   "id": "6178a193",
   "metadata": {
    "scrolled": true
   },
   "outputs": [],
   "source": [
    "from selenium import webdriver\n",
    "from selenium.webdriver.chrome.service import Service\n",
    "from webdriver_manager.chrome import ChromeDriverManager\n",
    "import time\n",
    "import pandas as pd"
   ]
  },
  {
   "cell_type": "markdown",
   "id": "8369e347",
   "metadata": {},
   "source": [
    "## Passo 3: Entender como funcionam as requisições na internet"
   ]
  }
 ],
 "metadata": {
  "kernelspec": {
   "display_name": "Python 3 (ipykernel)",
   "language": "python",
   "name": "python3"
  },
  "language_info": {
   "codemirror_mode": {
    "name": "ipython",
    "version": 3
   },
   "file_extension": ".py",
   "mimetype": "text/x-python",
   "name": "python",
   "nbconvert_exporter": "python",
   "pygments_lexer": "ipython3",
   "version": "3.9.13"
  }
 },
 "nbformat": 4,
 "nbformat_minor": 5
}
