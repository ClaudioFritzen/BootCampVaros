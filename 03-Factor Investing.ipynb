{
 "cells": [
  {
   "cell_type": "markdown",
   "id": "8fad7990",
   "metadata": {},
   "source": [
    "# Projeto 3 - Fazendo um modelo de investimento com Python - Factor Investing no Ibovespa.\n",
    "\n",
    "### Desafio:\n",
    "    ** Construir um código que faça um backtesting dos últimos 6 anos, escolhendo as 8 melhores ações do indice Ibovespa e utilizando como critério o fator momento 7 meses. **\n",
    "    \n",
    "## Passo a Passo da estratégia:\n",
    "Passo 1 - Definir um universo investivel. <br>\n",
    "Passo 2 - Escolher o fator que servirá como critério para criação dos rankings. <br>\n",
    "Passo 3 - Escolher o período de teste. <br>\n",
    "Passo 4 - Escolher o número de ações na carteira <br>\n",
    "Passo 5 - Definir o periodo de balanceamento. De quanto em quanto tempo a carteira muda? <br>\n",
    "\n",
    "## Passo a Passo do código:\n",
    "Passo 1 - Ler a composição histórica do Ibovespa e os tickers que já passaram pelo índice. <br>\n",
    "Passo 2 - Puxar as cotações de todas as empresas que farão parte do **backtest** . <br>\n",
    "Passo 3 - Transformar o indice em data e ordenar a série de tempo. <br>\n",
    "Passo 4 - Calcular a média dos retornos 7 meses e ajustar a tabela com o fator. <br>\n",
    "Passo 5 - Classificar e retirar empresas que não participam do Ibovespa no periodo de tempo selecionado <br>\n",
    "Passo 6 - Criar as carteiras de investimento em uma matriz de 0 e 1. <br>\n",
    "Passo 7 - Calcular o retorno mensal das empresas no periodo de backtest. <br>\n",
    "Passo 8 - Cruzar a matriz de retorno mensal com a matriz das carteiras para chegar na rentabilidade do\n",
    "modelo. <br>\n",
    "Passo 9 - Puxar a calcular a rentabilidade do Ibovespa no periodo. <br>\n",
    "Passo 10 - Calcular e vizualizar as rentabilidades do modelo contra o Ibovespa."
   ]
  }
 ],
 "metadata": {
  "kernelspec": {
   "display_name": "Python 3 (ipykernel)",
   "language": "python",
   "name": "python3"
  },
  "language_info": {
   "codemirror_mode": {
    "name": "ipython",
    "version": 3
   },
   "file_extension": ".py",
   "mimetype": "text/x-python",
   "name": "python",
   "nbconvert_exporter": "python",
   "pygments_lexer": "ipython3",
   "version": "3.9.13"
  }
 },
 "nbformat": 4,
 "nbformat_minor": 5
}
